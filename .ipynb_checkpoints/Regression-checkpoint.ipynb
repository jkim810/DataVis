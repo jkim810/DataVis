{
 "cells": [
  {
   "cell_type": "code",
   "execution_count": 1,
   "metadata": {},
   "outputs": [],
   "source": [
    "import pandas as pd\n",
    "import numpy as np\n",
    "import matplotlib.pyplot as plt\n",
    "\n",
    "\n",
    "df = pd.read_csv('winequality-red.csv', ';')"
   ]
  },
  {
   "cell_type": "code",
   "execution_count": 2,
   "metadata": {},
   "outputs": [
    {
     "name": "stdout",
     "output_type": "stream",
     "text": [
      "1599\n"
     ]
    }
   ],
   "source": [
    "print(len(df))"
   ]
  },
  {
   "cell_type": "code",
   "execution_count": 3,
   "metadata": {},
   "outputs": [
    {
     "name": "stdout",
     "output_type": "stream",
     "text": [
      "1279.2 159.9\n"
     ]
    }
   ],
   "source": [
    "print(len(df)*0.8, len(df)*0.1)"
   ]
  },
  {
   "cell_type": "code",
   "execution_count": 4,
   "metadata": {},
   "outputs": [],
   "source": [
    "#split data set into 1280, 160, 159;\n",
    "df_train = df.loc[0:1279]\n",
    "df_ridge = df.loc[1280:1439]\n",
    "df_test = df.loc[1440:1599]"
   ]
  },
  {
   "cell_type": "code",
   "execution_count": 5,
   "metadata": {},
   "outputs": [],
   "source": [
    "# Part 1: Linear Regression\n",
    "\n",
    "# preprocessing for train set and test set\n",
    "y = df_train['quality']\n",
    "x = df_train.drop(['quality'],axis=1)\n",
    "bias = [1] *len(df_train)\n",
    "x.insert(0,column='bias',value=bias)\n",
    "\n",
    "correct_labels = df_test['quality']\n",
    "x_test = df_test.drop(['quality'], axis=1)\n",
    "bias = [1] * len(df_test)\n",
    "x_test.insert(0,column='bias',value=bias)\n",
    "\n",
    "correct_labels = pd.DataFrame(correct_labels)"
   ]
  },
  {
   "cell_type": "code",
   "execution_count": 6,
   "metadata": {},
   "outputs": [],
   "source": [
    "# Generating beta\n",
    "\n",
    "# take the inverse of x.T * x\n",
    "b = pd.DataFrame(np.linalg.pinv(x.T.dot(x)),columns=x.columns)\n",
    "# take the result dot it with x.T and y\n",
    "b = b.dot(x.T).dot(y)\n",
    "\n",
    "# put beta into proper frame\n",
    "b=b.to_frame()\n",
    "b = b.T\n",
    "b.columns = x.columns\n",
    "b = b.T"
   ]
  },
  {
   "cell_type": "code",
   "execution_count": 7,
   "metadata": {},
   "outputs": [],
   "source": [
    "# Testing\n",
    "prediction = x_test.dot(b)\n",
    "prediction.columns = ['quality']\n",
    "mse = correct_labels - prediction\n",
    "mse = mse.T.dot(mse)/len(prediction)"
   ]
  },
  {
   "cell_type": "code",
   "execution_count": 53,
   "metadata": {},
   "outputs": [
    {
     "name": "stdout",
     "output_type": "stream",
     "text": [
      "MSE:           quality\n",
      "quality  0.495204\n"
     ]
    },
    {
     "data": {
      "text/plain": [
       "<matplotlib.figure.Figure at 0x28fced887f0>"
      ]
     },
     "metadata": {},
     "output_type": "display_data"
    },
    {
     "data": {
      "image/png": "[encoded data removed]",
      "text/plain": [
       "<matplotlib.figure.Figure at 0x28fcee3a358>"
      ]
     },
     "metadata": {},
     "output_type": "display_data"
    }
   ],
   "source": [
    "result = pd.concat([correct_labels,prediction], axis=1)\n",
    "result.columns = ['Correct', 'Prediction']\n",
    "r = result.sort_values(by=['Correct','Prediction']);\n",
    "r.index = range(len(r))\n",
    "\n",
    "plt.figure()\n",
    "r.plot()\n",
    "plt.title('Linear Regression for Wine Quality Rating')\n",
    "plt.ylabel('Wine Quality')\n",
    "plt.xlabel('Trial')\n",
    "print('MSE:',mse)"
   ]
  },
  {
   "cell_type": "code",
   "execution_count": null,
   "metadata": {},
   "outputs": [],
   "source": []
  },
  {
   "cell_type": "code",
   "execution_count": null,
   "metadata": {},
   "outputs": [],
   "source": []
  }
 ],
 "metadata": {
  "kernelspec": {
   "display_name": "Python 3",
   "language": "python",
   "name": "python3"
  },
  "language_info": {
   "codemirror_mode": {
    "name": "ipython",
    "version": 3
   },
   "file_extension": ".py",
   "mimetype": "text/x-python",
   "name": "python",
   "nbconvert_exporter": "python",
   "pygments_lexer": "ipython3",
   "version": "3.6.4"
  }
 },
 "nbformat": 4,
 "nbformat_minor": 2
}
